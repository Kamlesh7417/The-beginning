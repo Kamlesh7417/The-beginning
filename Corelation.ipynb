{
 "cells": [
  {
   "cell_type": "code",
   "execution_count": 1,
   "metadata": {},
   "outputs": [
    {
     "name": "stdout",
     "output_type": "stream",
     "text": [
      "Pearsons correlation: 0.888\n",
      "Pearsons correlation: 0.888\n"
     ]
    }
   ],
   "source": [
    "\n",
    "# calculate correlation coefficient\n",
    "from numpy.random import seed\n",
    "from numpy.random import randn\n",
    "from scipy.stats import pearsonr\n",
    "# seed random number generator\n",
    "seed(1)\n",
    "# prepare data\n",
    "data1 = 20 * randn(1000) + 100\n",
    "data2 = data1 + (10 * randn(1000) + 50)\n",
    "# calculate Pearson's correlation\n",
    "corr, p = pearsonr(data1, data2)\n",
    "# display the correlation\n",
    "print('Pearsons correlation: %.3f' % corr)"
   ]
  },
  {
   "cell_type": "code",
   "execution_count": 2,
   "metadata": {},
   "outputs": [
    {
     "name": "stdout",
     "output_type": "stream",
     "text": [
      "[ 0.48951662  0.23879586 -0.44811181 -0.610795   -2.02994507  0.60794659\n",
      " -0.35410888  0.15258149  0.50127485 -0.78640277  1.01699569  0.11311058\n",
      "  1.49699525  0.16893767  0.3186247  -0.27337714  1.47641399 -2.10349278\n",
      " -0.53283196 -0.30505399]\n"
     ]
    }
   ],
   "source": [
    "print(randn(20))"
   ]
  },
  {
   "cell_type": "code",
   "execution_count": 3,
   "metadata": {},
   "outputs": [
    {
     "name": "stdout",
     "output_type": "stream",
     "text": [
      "[-1.53042074 -0.79470265 -2.17212271]\n"
     ]
    }
   ],
   "source": [
    "print(randn(3))"
   ]
  },
  {
   "cell_type": "code",
   "execution_count": 4,
   "metadata": {},
   "outputs": [
    {
     "name": "stdout",
     "output_type": "stream",
     "text": [
      "[ 0.19038724 -1.40522754  0.36986047]\n"
     ]
    }
   ],
   "source": [
    "print(randn(3))"
   ]
  },
  {
   "cell_type": "code",
   "execution_count": null,
   "metadata": {},
   "outputs": [],
   "source": []
  }
 ],
 "metadata": {
  "kernelspec": {
   "display_name": "Python 3",
   "language": "python",
   "name": "python3"
  },
  "language_info": {
   "codemirror_mode": {
    "name": "ipython",
    "version": 3
   },
   "file_extension": ".py",
   "mimetype": "text/x-python",
   "name": "python",
   "nbconvert_exporter": "python",
   "pygments_lexer": "ipython3",
   "version": "3.7.3"
  }
 },
 "nbformat": 4,
 "nbformat_minor": 2
}
